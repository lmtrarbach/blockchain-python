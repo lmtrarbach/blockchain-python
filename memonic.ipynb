{
 "cells": [
  {
   "cell_type": "code",
   "execution_count": 48,
   "metadata": {},
   "outputs": [],
   "source": [
    "import os\n",
    "import binascii\n",
    "import hashlib\n",
    "import unicodedata"
   ]
  },
  {
   "cell_type": "code",
   "execution_count": 49,
   "metadata": {},
   "outputs": [
    {
     "name": "stdout",
     "output_type": "stream",
     "text": [
      "32\n",
      "b'5d0b669cf715b2fb124e691ad443aab45e1c3455ef8a3cdb47f50fd90a0c8ca2'\n"
     ]
    }
   ],
   "source": [
    "bits = 256\n",
    "entropy = os.urandom(bits//8)\n",
    "entropy_hex = binascii.hexlify(entropy)\n",
    "hex_decoded = entropy_hex.decode(\"utf-8\")\n",
    "entropy_bin = binascii.unhexlify(str(hex_decoded))\n",
    "entropy_bin_hex= binascii.hexlify(entropy_bin)\n",
    "bytes = len(entropy_bin)\n",
    "print(bytes)\n",
    "print(entropy_hex)"
   ]
  },
  {
   "cell_type": "code",
   "execution_count": 50,
   "metadata": {},
   "outputs": [
    {
     "name": "stdout",
     "output_type": "stream",
     "text": [
      "010111010000101101100110100111001111011100010101101100101111101100010010010011100110100100011010110101000100001110101010101101000101111000011100001101000101010111101111100010100011110011011011010001111111010100001111110110010000101000001100100011001010001010101001\n"
     ]
    }
   ],
   "source": [
    "hashed_sha256 = hashlib.sha256(entropy_bin).hexdigest()\n",
    "result = bin(int(entropy_hex, 16))[2:].zfill(bytes * 8) + bin(int(hashed_sha256,16))[2:].zfill(256)[: bytes * 8 // 32]\n",
    "print(result)"
   ]
  },
  {
   "cell_type": "code",
   "execution_count": 51,
   "metadata": {},
   "outputs": [],
   "source": [
    "index_list = []\n",
    "with open(\"wordlist.txt\") as file:\n",
    "    for word in file.readlines():\n",
    "        index_list.append(word.strip())"
   ]
  },
  {
   "cell_type": "code",
   "execution_count": 52,
   "metadata": {},
   "outputs": [
    {
     "name": "stdout",
     "output_type": "stream",
     "text": [
      "fringe forest poet until forest laugh empty snake bracket pear turkey hamster tide boss fish vanish devote surface wool cabbage mouse alien crater festival\n"
     ]
    }
   ],
   "source": [
    "wordlist = []\n",
    "for i in range(len(result) // 11):\n",
    "    index = int(result[i*11 : (i+1)* 11], 2)\n",
    "    wordlist.append(index_list[index])\n",
    "phrase = \" \".join(wordlist)\n",
    "print(phrase)\n"
   ]
  },
  {
   "cell_type": "code",
   "execution_count": 53,
   "metadata": {},
   "outputs": [
    {
     "name": "stdout",
     "output_type": "stream",
     "text": [
      "b'ab2bae563d44068684a0b85c8ddd66f4b3c707d6a5916ddbc1838940a92f1ae4d279aa13622b17980f1faf21059ac6b6434bcabe0f889ba23d43626954c6770e'\n",
      "b'ab2bae563d44068684a0b85c8ddd66f4b3c707d6a5916ddbc1838940a92f1ae4d279aa13622b17980f1faf21059ac6b6434bcabe0f889ba23d43626954c6770e'\n"
     ]
    }
   ],
   "source": [
    "mnemonic = unicodedata.normalize(\"NFKD\", phrase)\n",
    "password = \"\"\n",
    "norm_passphrase = unicodedata.normalize(\"NFKD\", password)\n",
    "passphrase = \"mnemonic\" + norm_passphrase\n",
    "mnemonic_encoded = mnemonic.encode(\"utf-8\")\n",
    "passphrase = passphrase.encode(\"utf-8\")\n",
    "seed = hashlib.pbkdf2_hmac(\"sha512\", mnemonic_encoded, passphrase, 2048)\n",
    "print(binascii.hexlify(seed))\n",
    "print(binascii.hexlify(seed[:64]))"
   ]
  }
 ],
 "metadata": {
  "interpreter": {
   "hash": "b672a7d3db1a4bd6d1e3ce81b29e8f9d42640a13f864cb9a48034b803f780d4a"
  },
  "kernelspec": {
   "display_name": "Python 3.9.12 64-bit (windows store)",
   "language": "python",
   "name": "python3"
  },
  "language_info": {
   "codemirror_mode": {
    "name": "ipython",
    "version": 3
   },
   "file_extension": ".py",
   "mimetype": "text/x-python",
   "name": "python",
   "nbconvert_exporter": "python",
   "pygments_lexer": "ipython3",
   "version": "3.9.12"
  },
  "orig_nbformat": 4
 },
 "nbformat": 4,
 "nbformat_minor": 2
}
