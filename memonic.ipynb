{
 "cells": [
  {
   "cell_type": "code",
   "execution_count": 48,
   "metadata": {},
   "outputs": [],
   "source": [
    "import os\n",
    "import binascii\n",
    "import hashlib\n",
    "import unicodedata"
   ]
  },
  {
   "cell_type": "code",
   "execution_count": null,
   "metadata": {},
   "outputs": [],
   "source": [
    "bits = 256\n",
    "entropy = os.urandom(bits//8)\n",
    "entropy_hex = binascii.hexlify(entropy)\n",
    "hex_decoded = entropy_hex.decode(\"utf-8\")\n",
    "entropy_bin = binascii.unhexlify(str(hex_decoded))\n",
    "entropy_bin_hex= binascii.hexlify(entropy_bin)\n",
    "bytes = len(entropy_bin)\n",
    "print(bytes)\n",
    "print(entropy_hex)"
   ]
  },
  {
   "cell_type": "code",
   "execution_count": null,
   "metadata": {},
   "outputs": [],
   "source": [
    "hashed_sha256 = hashlib.sha256(entropy_bin).hexdigest()\n",
    "result = bin(int(entropy_hex, 16))[2:].zfill(bytes * 8) + bin(int(hashed_sha256,16))[2:].zfill(256)[: bytes * 8 // 32]\n",
    "print(result)"
   ]
  },
  {
   "cell_type": "code",
   "execution_count": 51,
   "metadata": {},
   "outputs": [],
   "source": [
    "index_list = []\n",
    "with open(\"wordlist.txt\") as file:\n",
    "    for word in file.readlines():\n",
    "        index_list.append(word.strip())"
   ]
  },
  {
   "cell_type": "code",
   "execution_count": null,
   "metadata": {},
   "outputs": [],
   "source": [
    "wordlist = []\n",
    "for i in range(len(result) // 11):\n",
    "    index = int(result[i*11 : (i+1)* 11], 2)\n",
    "    wordlist.append(index_list[index])\n",
    "phrase = \" \".join(wordlist)\n",
    "print(phrase)\n"
   ]
  },
  {
   "cell_type": "code",
   "execution_count": null,
   "metadata": {},
   "outputs": [],
   "source": [
    "mnemonic = unicodedata.normalize(\"NFKD\", phrase)\n",
    "password = \"\"\n",
    "norm_passphrase = unicodedata.normalize(\"NFKD\", password)\n",
    "passphrase = \"mnemonic\" + norm_passphrase\n",
    "mnemonic_encoded = mnemonic.encode(\"utf-8\")\n",
    "passphrase = passphrase.encode(\"utf-8\")\n",
    "seed = hashlib.pbkdf2_hmac(\"sha512\", mnemonic_encoded, passphrase, 2048)\n",
    "print(binascii.hexlify(seed))\n",
    "print(binascii.hexlify(seed[:64]))"
   ]
  }
 ],
 "metadata": {
  "interpreter": {
   "hash": "b672a7d3db1a4bd6d1e3ce81b29e8f9d42640a13f864cb9a48034b803f780d4a"
  },
  "kernelspec": {
   "display_name": "Python 3.9.12 64-bit (windows store)",
   "language": "python",
   "name": "python3"
  },
  "language_info": {
   "codemirror_mode": {
    "name": "ipython",
    "version": 3
   },
   "file_extension": ".py",
   "mimetype": "text/x-python",
   "name": "python",
   "nbconvert_exporter": "python",
   "pygments_lexer": "ipython3",
   "version": "3.9.12"
  },
  "orig_nbformat": 4
 },
 "nbformat": 4,
 "nbformat_minor": 2
}
